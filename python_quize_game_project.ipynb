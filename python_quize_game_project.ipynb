{
  "nbformat": 4,
  "nbformat_minor": 0,
  "metadata": {
    "colab": {
      "provenance": []
    },
    "kernelspec": {
      "name": "python3",
      "display_name": "Python 3"
    },
    "language_info": {
      "name": "python"
    }
  },
  "cells": [
    {
      "cell_type": "code",
      "execution_count": 5,
      "metadata": {
        "id": "JuhnoGFJZT0G",
        "colab": {
          "base_uri": "https://localhost:8080/"
        },
        "outputId": "efdd8c14-c908-4cb1-9fb5-1101c8245055"
      },
      "outputs": [
        {
          "output_type": "stream",
          "name": "stdout",
          "text": [
            "Welcome to my computer quize!\n",
            "Do you want to play? yes\n",
            "Okey! Let's play :)\n",
            "What deos CPU stand for? central processing unit\n",
            "Correct!\n",
            "What does GPU stand for? graphics processing unit\n",
            "Correct!\n",
            "What deos RAM stands for? random access memory\n",
            "Correct!\n",
            "What deos PSU stand for? power supply\n",
            "Correct!\n",
            "What is the full form USB? universal serial bus\n",
            "Correct!\n",
            "You got 5question correct!\n",
            "You got 100.0%.\n"
          ]
        }
      ],
      "source": [
        "print(\"Welcome to my computer quize!\")\n",
        "\n",
        "playing = input(\"Do you want to play? \")\n",
        "\n",
        "if playing != \"yes\":\n",
        "  quit()\n",
        "\n",
        "print(\"Okey! Let's play :)\")\n",
        "score = 0\n",
        "\n",
        "answer = input(\"What deos CPU stand for? \")\n",
        "if answer.lower() == \"central processing unit\":\n",
        "  print(\"Correct!\")\n",
        "  score += 1\n",
        "else:\n",
        "  print(\"Incorrect!\")\n",
        "\n",
        "answer = input(\"What does GPU stand for? \")\n",
        "if answer.lower() == \"graphics processing unit\":\n",
        "  print(\"Correct!\")\n",
        "  score += 1\n",
        "else:\n",
        "  print(\"Incorrect!\")\n",
        "\n",
        "answer = input(\"What deos RAM stands for? \")\n",
        "if answer.lower() == \"random access memory\":\n",
        "  print(\"Correct!\")\n",
        "  score += 1\n",
        "else:\n",
        "  print(\"Incorrect!\")\n",
        "\n",
        "answer = input(\"What deos PSU stand for? \")\n",
        "if answer.lower() == \"power supply\":\n",
        "  print(\"Correct!\")\n",
        "  score += 1\n",
        "else:\n",
        "  print(\"Incorrect!\")\n",
        "\n",
        "answer = input(\"What is the full form USB? \")\n",
        "if answer.lower() == \"universal serial bus\":\n",
        "  print(\"Correct!\")\n",
        "  score += 1\n",
        "else:\n",
        "  print(\"Incorrect!\")\n",
        "\n",
        "print(\"You got \" + str(score) + \"question correct!\")\n",
        "print(\"You got \" + str((score/5) * 100) + \"%.\")"
      ]
    },
    {
      "cell_type": "code",
      "source": [],
      "metadata": {
        "id": "76O7ODXbuBYA"
      },
      "execution_count": null,
      "outputs": []
    }
  ]
}