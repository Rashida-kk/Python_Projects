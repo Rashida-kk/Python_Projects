{
  "nbformat": 4,
  "nbformat_minor": 0,
  "metadata": {
    "colab": {
      "provenance": []
    },
    "kernelspec": {
      "name": "python3",
      "display_name": "Python 3"
    },
    "language_info": {
      "name": "python"
    }
  },
  "cells": [
    {
      "cell_type": "code",
      "execution_count": 4,
      "metadata": {
        "colab": {
          "base_uri": "https://localhost:8080/"
        },
        "id": "Hqytkvqu7V6g",
        "outputId": "8fa8c679-d5fe-4677-ca57-1f8b76a1debf"
      },
      "outputs": [
        {
          "output_type": "stream",
          "name": "stdout",
          "text": [
            "Type a number: 10\n",
            "Make a guess: 5\n",
            "You were below the number!\n",
            "Make a guess: 7\n",
            "You got it!\n",
            "You got it in 2 guesses\n"
          ]
        }
      ],
      "source": [
        "import random\n",
        "\n",
        "top_of_range = input(\"Type a number: \")\n",
        "\n",
        "if top_of_range.isdigit():\n",
        "  top_of_range = int(top_of_range)\n",
        "\n",
        "  if top_of_range <= 0:\n",
        "    print(\"Please type anumber larger than 0 next time.\")\n",
        "    quit()\n",
        "else:\n",
        "  print(\"Please type a number next time.\")\n",
        "  quit()\n",
        "\n",
        "random_number = random.randint(0, top_of_range)\n",
        "guesses = 0\n",
        "\n",
        "while True:\n",
        "  guesses += 1\n",
        "  user_guess = input(\"Make a guess: \")\n",
        "  if user_guess.isdigit():\n",
        "    user_guess = int(user_guess)\n",
        "  else:\n",
        "    print(\"Please type a number next time.\")\n",
        "    continue\n",
        "\n",
        "  if user_guess == random_number:\n",
        "    print(\"You got it!\")\n",
        "    break\n",
        "  elif user_guess > random_number:\n",
        "    print(\"You were above the number!\")\n",
        "  else:\n",
        "    print(\"You were below the number!\")\n",
        "\n",
        "print(\"You got it in\", guesses, \"guesses\")"
      ]
    },
    {
      "cell_type": "code",
      "source": [],
      "metadata": {
        "id": "Eo4Sm8Q69KeC"
      },
      "execution_count": null,
      "outputs": []
    }
  ]
}