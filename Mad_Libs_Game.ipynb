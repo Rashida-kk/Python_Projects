{
  "nbformat": 4,
  "nbformat_minor": 0,
  "metadata": {
    "colab": {
      "provenance": []
    },
    "kernelspec": {
      "name": "python3",
      "display_name": "Python 3"
    },
    "language_info": {
      "name": "python"
    }
  },
  "cells": [
    {
      "cell_type": "markdown",
      "source": [
        "Mad Libs is a very popular template word game where one player act as the reader. They ask the other players, who have no knowledge of the story,to fill in the blanks by choosing adjectives, nouns,verbs,etc. The result is a funny stupid story the players have fun reading and laughing over."
      ],
      "metadata": {
        "id": "BNFXsVfP_i5X"
      }
    },
    {
      "cell_type": "code",
      "execution_count": 2,
      "metadata": {
        "colab": {
          "base_uri": "https://localhost:8080/"
        },
        "id": "z-xpczN48mRr",
        "outputId": "fd17dff5-8590-4185-ce8c-230713b700e1"
      },
      "outputs": [
        {
          "output_type": "stream",
          "name": "stdout",
          "text": [
            "Enter a adjective: tiny\n",
            "Enter a adjective: clumsy\n",
            "Enter a noun: pencil\n",
            "Enter a noun: eraser\n",
            "Enter a plural noun: shoe\n",
            "Enter a name of a game: hangman\n",
            "Enter a plural noun: books\n",
            "EEnter a verb ending in -ing: dancing\n",
            "EEnter a verb ending in -ing: writing\n",
            "Enter a plural noun: cars\n",
            "EEnter a verb ending in -ing: playing\n",
            "Enter a noun: hospital\n",
            "Enter a name of a plant: aloe vera\n",
            "Enter a name of a body part: tongue\n",
            "Enter a name of a place: india\n",
            "EEnter a verb ending in -ing: feeding\n",
            "Enter a adjective: hard\n",
            "Enter a number: 9\n",
            "Enter a plural noun: mobile phones\n",
            "A vecation is when take a trip to some tiny place with your clumsy family. Usually you go to some place that is near a/an pencil or up on a/an eraser. A good vacationplace is one where you can ride shoe or play hangman or go hunting for books. I like to spend my time dancing or writing. When parents go on vecation, they spend their time  eating three cars a day, and fathers play golf, and mothers sit around playing. Last summer, my little brother fall in  a/an hospital and got poison aloe vera all over his tongue. My family is going to go to the india, and i will practice feeding. Parents need vecations more than kids becouse parents are always very hard and becouse they have to work 9 hours every day all year making enough mobile phones to pay for the vecation.\n"
          ]
        }
      ],
      "source": [
        "adjective = input(\"Enter a adjective: \")\n",
        "adjective2 = input(\"Enter a adjective: \")\n",
        "noun = input(\"Enter a noun: \")\n",
        "noun2 = input(\"Enter a noun: \")\n",
        "plural_noun = input(\"Enter a plural noun: \")\n",
        "game = input(\"Enter a name of a game: \")\n",
        "plural_noun2 = input(\"Enter a plural noun: \")\n",
        "ing_verb = input(\"EEnter a verb ending in -ing: \")\n",
        "ing_verb2 = input(\"EEnter a verb ending in -ing: \")\n",
        "plural_noun3 = input(\"Enter a plural noun: \")\n",
        "ing_verb3 = input(\"EEnter a verb ending in -ing: \")\n",
        "noun3 = input(\"Enter a noun: \")\n",
        "plant = input(\"Enter a name of a plant: \")\n",
        "body_part = input(\"Enter a name of a body part: \")\n",
        "place = input(\"Enter a name of a place: \")\n",
        "ing_verb4 = input(\"EEnter a verb ending in -ing: \")\n",
        "adjective3 = input(\"Enter a adjective: \")\n",
        "number = input(\"Enter a number: \")\n",
        "plural_noun4 = input(\"Enter a plural noun: \")\n",
        "\n",
        "madlib = f\"A vecation is when take a trip to some {adjective} place with your {adjective2} family. Usually you go to some place that is near a/an {noun} or up on a/an {noun2}. A good vacationplace is one where you can ride {plural_noun} or play {game} or go hunting for {plural_noun2}. I like to spend my time {ing_verb} or {ing_verb2}. When parents go on vecation, they spend their time  eating three {plural_noun3} a day, and fathers play golf, and mothers sit around {ing_verb3}. Last summer, my little brother fall in  a/an {noun3} and got poison {plant} all over his {body_part}. My family is going to go to the {place}, and i will practice {ing_verb4}. Parents need vecations more than kids becouse parents are always very {adjective3} and becouse they have to work {number} hours every day all year making enough {plural_noun4} to pay for the vecation.\"\n",
        "\n",
        "print(madlib)\n",
        "\n",
        "\n",
        "\n",
        "\n",
        "\n",
        "\n",
        "\n"
      ]
    }
  ]
}